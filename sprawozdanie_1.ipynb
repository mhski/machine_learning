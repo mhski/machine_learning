{
 "cells": [
  {
   "cell_type": "markdown",
   "metadata": {},
   "source": [
    "## Sprawozdanie 1 - Michał Walicki"
   ]
  },
  {
   "cell_type": "code",
   "execution_count": 1,
   "metadata": {},
   "outputs": [],
   "source": [
    "# import wymaganych modułów\n",
    "import random\n",
    "\n",
    "import pandas as pd\n",
    "import matplotlib.pyplot as plt\n",
    "import numpy as np\n",
    "from sklearn import metrics\n",
    "from sklearn.cluster import KMeans\n",
    "from sklearn.cluster import DBSCAN"
   ]
  },
  {
   "cell_type": "markdown",
   "metadata": {},
   "source": [
    "## Zadanie 2"
   ]
  },
  {
   "cell_type": "code",
   "execution_count": 2,
   "metadata": {},
   "outputs": [
    {
     "data": {
      "text/html": [
       "<div>\n",
       "<style scoped>\n",
       "    .dataframe tbody tr th:only-of-type {\n",
       "        vertical-align: middle;\n",
       "    }\n",
       "\n",
       "    .dataframe tbody tr th {\n",
       "        vertical-align: top;\n",
       "    }\n",
       "\n",
       "    .dataframe thead th {\n",
       "        text-align: right;\n",
       "    }\n",
       "</style>\n",
       "<table border=\"1\" class=\"dataframe\">\n",
       "  <thead>\n",
       "    <tr style=\"text-align: right;\">\n",
       "      <th></th>\n",
       "      <th>PC1</th>\n",
       "      <th>PC2</th>\n",
       "    </tr>\n",
       "  </thead>\n",
       "  <tbody>\n",
       "    <tr>\n",
       "      <th>1</th>\n",
       "      <td>-2.406639</td>\n",
       "      <td>-0.396955</td>\n",
       "    </tr>\n",
       "    <tr>\n",
       "      <th>2</th>\n",
       "      <td>-2.223539</td>\n",
       "      <td>0.690180</td>\n",
       "    </tr>\n",
       "    <tr>\n",
       "      <th>3</th>\n",
       "      <td>-2.581105</td>\n",
       "      <td>0.427542</td>\n",
       "    </tr>\n",
       "    <tr>\n",
       "      <th>4</th>\n",
       "      <td>-2.450869</td>\n",
       "      <td>0.686007</td>\n",
       "    </tr>\n",
       "    <tr>\n",
       "      <th>5</th>\n",
       "      <td>-2.536853</td>\n",
       "      <td>-0.508252</td>\n",
       "    </tr>\n",
       "    <tr>\n",
       "      <th>...</th>\n",
       "      <td>...</td>\n",
       "      <td>...</td>\n",
       "    </tr>\n",
       "    <tr>\n",
       "      <th>146</th>\n",
       "      <td>1.585447</td>\n",
       "      <td>-0.481313</td>\n",
       "    </tr>\n",
       "    <tr>\n",
       "      <th>147</th>\n",
       "      <td>1.602556</td>\n",
       "      <td>0.859528</td>\n",
       "    </tr>\n",
       "    <tr>\n",
       "      <th>148</th>\n",
       "      <td>1.396619</td>\n",
       "      <td>-0.378609</td>\n",
       "    </tr>\n",
       "    <tr>\n",
       "      <th>149</th>\n",
       "      <td>1.080993</td>\n",
       "      <td>-1.011558</td>\n",
       "    </tr>\n",
       "    <tr>\n",
       "      <th>150</th>\n",
       "      <td>0.971212</td>\n",
       "      <td>-0.061587</td>\n",
       "    </tr>\n",
       "  </tbody>\n",
       "</table>\n",
       "<p>150 rows × 2 columns</p>\n",
       "</div>"
      ],
      "text/plain": [
       "          PC1       PC2\n",
       "1   -2.406639 -0.396955\n",
       "2   -2.223539  0.690180\n",
       "3   -2.581105  0.427542\n",
       "4   -2.450869  0.686007\n",
       "5   -2.536853 -0.508252\n",
       "..        ...       ...\n",
       "146  1.585447 -0.481313\n",
       "147  1.602556  0.859528\n",
       "148  1.396619 -0.378609\n",
       "149  1.080993 -1.011558\n",
       "150  0.971212 -0.061587\n",
       "\n",
       "[150 rows x 2 columns]"
      ]
     },
     "execution_count": 2,
     "metadata": {},
     "output_type": "execute_result"
    }
   ],
   "source": [
    "# wczytanie pliku csv do pd.DataFrame, \n",
    "# kolumna index ustawiona na pierwsza kolumne z pliku\n",
    "df_iris = pd.read_csv('iris2D.csv', index_col=0)\n",
    "df_iris"
   ]
  },
  {
   "cell_type": "code",
   "execution_count": 3,
   "metadata": {},
   "outputs": [],
   "source": [
    "# klasyfikacja KMEANS\n",
    "km = KMeans(n_clusters=3, init=\"random\", n_init=10, max_iter=300, tol=1e-04, random_state=0)"
   ]
  },
  {
   "cell_type": "code",
   "execution_count": 4,
   "metadata": {},
   "outputs": [],
   "source": [
    "# uruchomienie\n",
    "y_km = km.fit_predict(df_iris)"
   ]
  },
  {
   "cell_type": "code",
   "execution_count": 5,
   "metadata": {},
   "outputs": [
    {
     "data": {
      "image/png": "[encoded data removed]",
      "text/plain": [
       "<Figure size 432x288 with 1 Axes>"
      ]
     },
     "metadata": {
      "needs_background": "light"
     },
     "output_type": "display_data"
    },
    {
     "name": "stdout",
     "output_type": "stream",
     "text": [
      "Znieksztalcenie: 100.93740671469274\n"
     ]
    }
   ],
   "source": [
    "# przedstawienie na wykresie pierwszego klastra \n",
    "plt.scatter(\n",
    "    df_iris.iloc[y_km == 0, 0],\n",
    "    df_iris.iloc[y_km == 0, 1],\n",
    "    s=50,\n",
    "    c=\"lightgreen\",\n",
    "    marker=\"s\",\n",
    "    edgecolor=\"black\",\n",
    "    label=\"Klaster 1.\",\n",
    ")\n",
    "\n",
    "# przedstawienie na wykresie drugiego klastra\n",
    "plt.scatter(\n",
    "    df_iris.iloc[y_km == 1, 0],\n",
    "    df_iris.iloc[y_km == 1, 1],\n",
    "    s=50,\n",
    "    c=\"orange\",\n",
    "    marker=\"o\",\n",
    "    edgecolor=\"black\",\n",
    "    label=\"Klaster 2.\",\n",
    ")\n",
    "\n",
    "# przedstawienie na wykresie trzeciego klastra\n",
    "plt.scatter(\n",
    "    df_iris.iloc[y_km == 2, 0],\n",
    "    df_iris.iloc[y_km == 2, 1],\n",
    "    s=50,\n",
    "    c=\"lightblue\",\n",
    "    marker=\"v\",\n",
    "    edgecolor=\"black\",\n",
    "    label=\"Klaster 3.\",\n",
    ")\n",
    "\n",
    "# wywietlenie na wykresie centroidow (w postaci czerwonej gwiazdy)\n",
    "plt.scatter(\n",
    "    km.cluster_centers_[:, 0],\n",
    "    km.cluster_centers_[:, 1],\n",
    "    s=250,\n",
    "    marker=\"*\",\n",
    "    c=\"red\",\n",
    "    edgecolor=\"black\",\n",
    "    label=\"Centroidy\",\n",
    ")\n",
    "\n",
    "# przygotowanie legendy wykresu\n",
    "plt.legend(scatterpoints=1)\n",
    "\n",
    "# ustawienie siatki wykresu\n",
    "plt.grid()\n",
    "\n",
    "# wyswietlenie wykresu\n",
    "plt.tight_layout()\n",
    "plt.show()\n",
    "\n",
    "print(f\"Znieksztalcenie: {km.inertia_}\")\n"
   ]
  },
  {
   "cell_type": "markdown",
   "metadata": {},
   "source": [
    "## Zadanie 3"
   ]
  },
  {
   "cell_type": "code",
   "execution_count": 6,
   "metadata": {},
   "outputs": [
    {
     "data": {
      "image/png": "[encoded data removed]",
      "text/plain": [
       "<Figure size 432x288 with 1 Axes>"
      ]
     },
     "metadata": {
      "needs_background": "light"
     },
     "output_type": "display_data"
    },
    {
     "data": {
      "image/png": "[encoded data removed]",
      "text/plain": [
       "<Figure size 432x288 with 1 Axes>"
      ]
     },
     "metadata": {
      "needs_background": "light"
     },
     "output_type": "display_data"
    }
   ],
   "source": [
    "wyniki = []\n",
    "\n",
    "dbscan1 = DBSCAN(eps=0.2, min_samples=1, metric=\"euclidean\")\n",
    "dbscan2 = DBSCAN(eps=0.2, min_samples=5, metric=\"euclidean\")\n",
    "    \n",
    "for model in (dbscan1, dbscan2):\n",
    "    \n",
    "    y_dbscan = model.fit_predict(df_iris)\n",
    "    wyniki.append(y_dbscan)\n",
    "\n",
    "    plt.scatter(\n",
    "    df_iris.iloc[y_dbscan == 0, 0],\n",
    "    df_iris.iloc[y_dbscan == 0, 1],\n",
    "    c=\"lightblue\",\n",
    "    marker=\"o\",\n",
    "    s=40,\n",
    "    edgecolor=\"black\",\n",
    "    label=\"Skupienie 1.\",\n",
    "    )\n",
    "\n",
    "    plt.scatter(\n",
    "        df_iris.iloc[y_dbscan == 1, 0],\n",
    "        df_iris.iloc[y_dbscan == 1, 1],\n",
    "        c=\"red\",\n",
    "        marker=\"s\",\n",
    "        s=40,\n",
    "        edgecolor=\"black\",\n",
    "        label=\"Skupienie 2.\",\n",
    "    )\n",
    "\n",
    "    plt.scatter(\n",
    "        df_iris.iloc[y_dbscan == 2, 0],\n",
    "        df_iris.iloc[y_dbscan == 2, 1],\n",
    "        c=\"green\",\n",
    "        marker=\"^\",\n",
    "        s=40,\n",
    "        edgecolor=\"black\",\n",
    "        label=\"Skupienie 3.\",\n",
    "    )\n",
    "    plt.legend()\n",
    "    plt.tight_layout()\n",
    "    plt.show()"
   ]
  },
  {
   "cell_type": "markdown",
   "metadata": {},
   "source": [
    "**Algorytm DBSCAN** (*Density-Based Spatial Clustering of Applications with Noise*) to jeden z\n",
    "algorytmów klasteryzacji opierający się na łączeniu w grupy regionów o dostatecznie dużej\n",
    "gęstości. Algorytm wymaga od użytkownika wprowadzenie dwóch parametrów 𝜀 oraz 𝑀𝑖𝑛𝑃𝑡𝑠.\n",
    "Za otoczenie obiektu ze zbioru danych określa się obszar objęty przez okrąg o promieniu 𝜀.\n",
    "𝑀𝑖𝑛𝑃𝑡𝑠 określa minimalną ilość punktów potrzebną do utworzenia klastra. (źródło: http://home.agh.edu.pl/~horzyk/pracedyplom/2016%20%C5%81ukasz%20Trojanowski%20praca_magisterska_finalna.pdf)"
   ]
  },
  {
   "cell_type": "markdown",
   "metadata": {},
   "source": [
    "## Zadanie 4"
   ]
  },
  {
   "cell_type": "code",
   "execution_count": 7,
   "metadata": {},
   "outputs": [],
   "source": [
    "# tworzenie rozwiązań dla obu algorytmów\n",
    "\n",
    "# rozwiązania dla DBSCAN już wcześniej utworzyliśmy\n",
    "\n",
    "# tworzenie rozwiązań dla KMEANS\n",
    "kmeans_y1 = KMeans(n_clusters=3, init=\"random\", n_init=10, max_iter=300, tol=1e-04, random_state=0).fit_predict(df_iris)\n",
    "kmeans_y2 = KMeans(n_clusters=3, init=\"random\", n_init=10, max_iter=300, tol=1e-01, random_state=0).fit_predict(df_iris)"
   ]
  },
  {
   "cell_type": "markdown",
   "metadata": {},
   "source": [
    "a) rand score"
   ]
  },
  {
   "cell_type": "code",
   "execution_count": 8,
   "metadata": {},
   "outputs": [
    {
     "name": "stdout",
     "output_type": "stream",
     "text": [
      "Rand score dla DBSCAN: 0.02828979119967832\n"
     ]
    }
   ],
   "source": [
    "# obliczamy rand score dla tej pary rozwiązań DBSCAN\n",
    "print(f\"Rand score dla DBSCAN: {metrics.adjusted_rand_score(wyniki[0], wyniki[1])}\")"
   ]
  },
  {
   "cell_type": "code",
   "execution_count": 9,
   "metadata": {},
   "outputs": [
    {
     "name": "stdout",
     "output_type": "stream",
     "text": [
      "Rand score dla KMEANS: 0.7575856047284887\n"
     ]
    }
   ],
   "source": [
    "# obliczamy rand score dla tej pary rozwiązań KMEANS\n",
    "print(f\"Rand score dla KMEANS: {metrics.adjusted_rand_score(kmeans_y1, kmeans_y2)}\")"
   ]
  },
  {
   "cell_type": "markdown",
   "metadata": {},
   "source": [
    "b) purity"
   ]
  },
  {
   "cell_type": "code",
   "execution_count": 10,
   "metadata": {},
   "outputs": [],
   "source": [
    "def purity_score(y_true, y_pred):\n",
    "    # autor: https://stackoverflow.com/questions/34047540/python-clustering-purity-metric/51672699#51672699\n",
    "    # compute contingency matrix (also called confusion matrix)\n",
    "    contingency_matrix = metrics.cluster.contingency_matrix(y_true, y_pred)\n",
    "    # return purity\n",
    "    return np.sum(np.amax(contingency_matrix, axis=0)) / np.sum(contingency_matrix) "
   ]
  },
  {
   "cell_type": "code",
   "execution_count": 11,
   "metadata": {},
   "outputs": [
    {
     "name": "stdout",
     "output_type": "stream",
     "text": [
      "Purity dla DBSCAN: 0.46\n",
      "Purity dla KMEANS: 0.9066666666666666\n"
     ]
    }
   ],
   "source": [
    "print(f\"Purity dla DBSCAN: {purity_score(wyniki[0], wyniki[1])}\")\n",
    "print(f\"Purity dla KMEANS: {purity_score(kmeans_y1, kmeans_y2)}\")"
   ]
  },
  {
   "cell_type": "code",
   "execution_count": null,
   "metadata": {},
   "outputs": [],
   "source": []
  }
 ],
 "metadata": {
  "kernelspec": {
   "display_name": "Python 3.8.2 64-bit ('ml': venv)",
   "language": "python",
   "name": "python38264bitmlvenvd2e6086a3aed4f09b74ea44c173c6a03"
  },
  "language_info": {
   "codemirror_mode": {
    "name": "ipython",
    "version": 3
   },
   "file_extension": ".py",
   "mimetype": "text/x-python",
   "name": "python",
   "nbconvert_exporter": "python",
   "pygments_lexer": "ipython3",
   "version": "3.8.2"
  }
 },
 "nbformat": 4,
 "nbformat_minor": 4
}
